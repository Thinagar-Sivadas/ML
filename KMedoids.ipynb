{
 "cells": [
  {
   "cell_type": "code",
   "execution_count": null,
   "id": "be9ec133",
   "metadata": {},
   "outputs": [],
   "source": [
    "from sklearn.datasets import make_blobs\n",
    "import numpy as np\n",
    "from clustering.unsupervised.KMedoids import KMedoids\n",
    "from sklearn.model_selection import train_test_split\n",
    "# import sys\n",
    "# from utils.distance_metrics import DistanceMetrics"
   ]
  },
  {
   "cell_type": "code",
   "execution_count": null,
   "id": "a2d8c0fc",
   "metadata": {},
   "outputs": [],
   "source": [
    "cluster=4"
   ]
  },
  {
   "cell_type": "code",
   "execution_count": null,
   "id": "0d4b11a5",
   "metadata": {},
   "outputs": [],
   "source": [
    "X, y, true_centre = make_blobs(n_samples=200, centers=cluster, n_features=4,\n",
    "                                        return_centers=True,\n",
    "                                        cluster_std=0.7,center_box=(0, 20))\n",
    "\n",
    "X_train, X_test, y_train, y_test = train_test_split(X, y, stratify=y)"
   ]
  },
  {
   "cell_type": "code",
   "execution_count": null,
   "id": "2d270b62",
   "metadata": {},
   "outputs": [],
   "source": [
    "from sklearn_extra.cluster import KMedoids as KMedoid\n",
    "Kmed = KMedoid(n_clusters=cluster, method='pam', init='k-medoids++').fit(X_train)\n",
    "print(Kmed.cluster_centers_)\n",
    "print(Kmed.inertia_)\n",
    "print(Kmed.predict(X_test))"
   ]
  },
  {
   "cell_type": "code",
   "execution_count": null,
   "id": "f067edde",
   "metadata": {
    "scrolled": true
   },
   "outputs": [],
   "source": [
    "kmed = KMedoids(n_clusters=cluster, max_iter=100)\n",
    "kmed.train(X_train)"
   ]
  },
  {
   "cell_type": "code",
   "execution_count": null,
   "id": "d1a08db5",
   "metadata": {},
   "outputs": [],
   "source": [
    "y_pred = kmed.predict(X_test)\n",
    "print(y_pred)\n",
    "kmed.evaluate_score(pred_labels=y_pred, target_labels=y_test)"
   ]
  },
  {
   "cell_type": "code",
   "execution_count": null,
   "id": "91844c4c",
   "metadata": {},
   "outputs": [],
   "source": [
    "kmed.plot_train()"
   ]
  },
  {
   "cell_type": "code",
   "execution_count": null,
   "id": "2d1a8d16",
   "metadata": {},
   "outputs": [],
   "source": [
    "kmed.plot_test(test_data=X_test)"
   ]
  },
  {
   "cell_type": "code",
   "execution_count": null,
   "id": "c4ffe977",
   "metadata": {},
   "outputs": [],
   "source": []
  }
 ],
 "metadata": {
  "kernelspec": {
   "display_name": "Python 3",
   "language": "python",
   "name": "python3"
  },
  "language_info": {
   "codemirror_mode": {
    "name": "ipython",
    "version": 3
   },
   "file_extension": ".py",
   "mimetype": "text/x-python",
   "name": "python",
   "nbconvert_exporter": "python",
   "pygments_lexer": "ipython3",
   "version": "3.9.5"
  }
 },
 "nbformat": 4,
 "nbformat_minor": 5
}
