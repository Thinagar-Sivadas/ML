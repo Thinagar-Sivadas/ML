{
 "cells": [
  {
   "cell_type": "code",
   "execution_count": 1,
   "id": "be9ec133",
   "metadata": {},
   "outputs": [],
   "source": [
    "from sklearn.datasets import make_regression\n",
    "import numpy as np\n",
    "from regressor.LinearRegression import LinearRegression\n",
    "from sklearn.model_selection import train_test_split"
   ]
  },
  {
   "cell_type": "code",
   "execution_count": 2,
   "id": "0d4b11a5",
   "metadata": {},
   "outputs": [
    {
     "name": "stdout",
     "output_type": "stream",
     "text": [
      "11.829664803781581\n"
     ]
    }
   ],
   "source": [
    "X, y, coef = make_regression(n_samples=200, n_features=1,\n",
    "                             noise=0, coef=True)\n",
    "\n",
    "X_train, X_test, y_train, y_test = train_test_split(X, y)\n",
    "\n",
    "print(coef)"
   ]
  },
  {
   "cell_type": "code",
   "execution_count": 3,
   "id": "27cb518a",
   "metadata": {},
   "outputs": [],
   "source": [
    "# from sklearn.cluster import KMeans as Kmean\n",
    "# kmeans = Kmean(n_clusters=cluster).fit(X_train)\n",
    "# print(kmeans.cluster_centers_)\n",
    "# print(kmeans.inertia_)\n",
    "# print(kmeans.predict(X_test))"
   ]
  },
  {
   "cell_type": "code",
   "execution_count": 4,
   "id": "f067edde",
   "metadata": {
    "scrolled": true
   },
   "outputs": [
    {
     "name": "stdout",
     "output_type": "stream",
     "text": [
      "[[11.82929616]]\n",
      "[[0.00026221]]\n"
     ]
    }
   ],
   "source": [
    "lr = LinearRegression(lr=1e-2)\n",
    "lr.train(X_train, y_train)\n",
    "print(lr.weights)\n",
    "print(lr.bias)"
   ]
  },
  {
   "cell_type": "code",
   "execution_count": 5,
   "id": "4c0e9257",
   "metadata": {},
   "outputs": [
    {
     "data": {
      "text/plain": [
       "array([-28.75846624,  21.05440307,  24.4178951 ,   4.49659856,\n",
       "         9.16372496,  17.05912866,   3.7072394 ,   1.31976732,\n",
       "        -1.92902461,   0.78530186,   8.22568108,   9.49097893,\n",
       "         1.99878504,  -6.28815553,  -4.1275206 ,   1.07045568,\n",
       "       -21.30297321,   1.8624991 ,   5.24626743,  13.0274875 ,\n",
       "       -13.29317892,  -8.34331099,  -2.81486829,  -3.00046697,\n",
       "         1.01240593,   9.14907463,  15.68544844,   3.54869948,\n",
       "        -6.56471884,   6.11278559,  13.28846406,  -1.46141213,\n",
       "        -5.62765641,   2.78824877,  12.73135156,   6.88004694,\n",
       "         0.0526836 ,  23.3136793 , -14.12113243,   9.38791533,\n",
       "         9.29164491,  14.4211268 ,  -4.45609796,   6.7366065 ,\n",
       "        -1.7961508 ,   7.33559029,  21.16345308,  -3.4678837 ,\n",
       "        -5.59633408,  13.31742515])"
      ]
     },
     "execution_count": 5,
     "metadata": {},
     "output_type": "execute_result"
    }
   ],
   "source": [
    "y_test"
   ]
  },
  {
   "cell_type": "code",
   "execution_count": 6,
   "id": "5a8ce122",
   "metadata": {
    "scrolled": true
   },
   "outputs": [
    {
     "data": {
      "text/plain": [
       "array([-28.75730783,  21.05400916,  24.41739638,   4.49672064,\n",
       "         9.1637016 ,  17.05885925,   3.70738609,   1.3199884 ,\n",
       "        -1.92870229,   0.78553959,   8.22568695,   9.49094537,\n",
       "         1.99898496,  -6.28769737,  -4.12712977,   1.07068453,\n",
       "       -21.30204714,   1.86270327,   5.24636615,  13.02734374,\n",
       "       -13.29250246,  -8.34278878,  -2.81451836,  -3.00011126,\n",
       "         1.01263659,   9.14905173,  15.68522185,   3.5488511 ,\n",
       "        -6.56425205,   6.1128573 ,  13.28831216,  -1.46110438,\n",
       "        -5.62721882,   2.78842409,  12.73121702,   6.88009475,\n",
       "         0.05294416,  23.31321499, -14.12043017,   9.38788499,\n",
       "         9.29161757,  14.42093961,  -4.45569689,   6.73665878,\n",
       "        -1.79583261,   7.3356239 ,  21.16305578,  -3.46751343,\n",
       "        -5.59589748,  13.31727235])"
      ]
     },
     "execution_count": 6,
     "metadata": {},
     "output_type": "execute_result"
    }
   ],
   "source": [
    "lr.predict(X_test).reshape(-1)"
   ]
  },
  {
   "cell_type": "code",
   "execution_count": null,
   "id": "d1a08db5",
   "metadata": {},
   "outputs": [],
   "source": [
    "# y_pred = kmean.predict(X_test)\n",
    "# print(y_pred)\n",
    "# kmean.evaluate_score(pred_labels=y_pred, target_labels=y_test)"
   ]
  },
  {
   "cell_type": "code",
   "execution_count": null,
   "id": "91844c4c",
   "metadata": {},
   "outputs": [],
   "source": [
    "# kmean.plot_train()"
   ]
  },
  {
   "cell_type": "code",
   "execution_count": null,
   "id": "2d1a8d16",
   "metadata": {},
   "outputs": [],
   "source": [
    "# kmean.plot_test(test_data=X_test)"
   ]
  },
  {
   "cell_type": "code",
   "execution_count": null,
   "id": "3d32373d",
   "metadata": {},
   "outputs": [],
   "source": []
  }
 ],
 "metadata": {
  "kernelspec": {
   "display_name": "Python 3",
   "language": "python",
   "name": "python3"
  },
  "language_info": {
   "codemirror_mode": {
    "name": "ipython",
    "version": 3
   },
   "file_extension": ".py",
   "mimetype": "text/x-python",
   "name": "python",
   "nbconvert_exporter": "python",
   "pygments_lexer": "ipython3",
   "version": "3.9.5"
  }
 },
 "nbformat": 4,
 "nbformat_minor": 5
}
