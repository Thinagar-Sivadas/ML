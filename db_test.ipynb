{
 "cells": [
  {
   "cell_type": "code",
   "execution_count": null,
   "id": "aed1fc00",
   "metadata": {},
   "outputs": [],
   "source": [
    "from database.sql_connector import SqlConnector"
   ]
  },
  {
   "cell_type": "code",
   "execution_count": null,
   "id": "3dfee0bd",
   "metadata": {},
   "outputs": [],
   "source": [
    "sql_con = SqlConnector()"
   ]
  },
  {
   "cell_type": "code",
   "execution_count": null,
   "id": "054231ad",
   "metadata": {},
   "outputs": [],
   "source": [
    "df = sql_con.run_query(\"\"\"SELECT * FROM SYNTHETIC.Clustering\"\"\")\n",
    "df"
   ]
  },
  {
   "cell_type": "code",
   "execution_count": null,
   "id": "624007cc",
   "metadata": {},
   "outputs": [],
   "source": []
  }
 ],
 "metadata": {
  "kernelspec": {
   "display_name": "Python 3",
   "language": "python",
   "name": "python3"
  },
  "language_info": {
   "codemirror_mode": {
    "name": "ipython",
    "version": 3
   },
   "file_extension": ".py",
   "mimetype": "text/x-python",
   "name": "python",
   "nbconvert_exporter": "python",
   "pygments_lexer": "ipython3",
   "version": "3.9.5"
  }
 },
 "nbformat": 4,
 "nbformat_minor": 5
}
