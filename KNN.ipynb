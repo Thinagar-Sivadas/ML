{
 "cells": [
  {
   "cell_type": "code",
   "execution_count": null,
   "id": "be9ec133",
   "metadata": {},
   "outputs": [],
   "source": [
    "from sklearn.datasets import make_blobs\n",
    "import numpy as np\n",
    "from sklearn.model_selection import train_test_split\n",
    "from clustering.supervised import KNN\n",
    "import sys\n",
    "from utils.distance_metrics import DistanceMetrics"
   ]
  },
  {
   "cell_type": "code",
   "execution_count": null,
   "id": "a2d8c0fc",
   "metadata": {},
   "outputs": [],
   "source": [
    "cluster=4\n",
    "k = 10"
   ]
  },
  {
   "cell_type": "code",
   "execution_count": null,
   "id": "0d4b11a5",
   "metadata": {},
   "outputs": [],
   "source": [
    "X, y, true_centre = make_blobs(n_samples=200, centers=cluster, n_features=3,\n",
    "                                        return_centers=True,\n",
    "                                        cluster_std=0.7,center_box=(0, 20))\n",
    "\n",
    "X_train, X_test, y_train, y_test = train_test_split(X, y, stratify=y)"
   ]
  },
  {
   "cell_type": "code",
   "execution_count": null,
   "id": "3c254692",
   "metadata": {},
   "outputs": [],
   "source": [
    "from sklearn.neighbors import KNeighborsClassifier\n",
    "neigh = KNeighborsClassifier(n_neighbors=k)\n",
    "neigh.fit(X_train, y_train)\n",
    "print(neigh.predict(X_test))"
   ]
  },
  {
   "cell_type": "code",
   "execution_count": null,
   "id": "592fe4a5",
   "metadata": {},
   "outputs": [],
   "source": [
    "knn = KNN(n_neighbors=k)\n",
    "knn.train(X_train, y_train)"
   ]
  },
  {
   "cell_type": "code",
   "execution_count": null,
   "id": "92e2187c",
   "metadata": {},
   "outputs": [],
   "source": [
    "y_pred = knn.predict(X_test)\n",
    "print(y_pred)\n",
    "knn.evaluate_score(pred_labels=y_pred, target_labels=y_test)"
   ]
  },
  {
   "cell_type": "code",
   "execution_count": null,
   "id": "c44c8718",
   "metadata": {},
   "outputs": [],
   "source": [
    "knn.plot_training()"
   ]
  },
  {
   "cell_type": "code",
   "execution_count": null,
   "id": "85959504",
   "metadata": {},
   "outputs": [],
   "source": [
    "knn.plot_testing(test_data=X_test)"
   ]
  },
  {
   "cell_type": "code",
   "execution_count": null,
   "id": "75acd4bb",
   "metadata": {},
   "outputs": [],
   "source": []
  }
 ],
 "metadata": {
  "kernelspec": {
   "display_name": "Python 3",
   "language": "python",
   "name": "python3"
  },
  "language_info": {
   "codemirror_mode": {
    "name": "ipython",
    "version": 3
   },
   "file_extension": ".py",
   "mimetype": "text/x-python",
   "name": "python",
   "nbconvert_exporter": "python",
   "pygments_lexer": "ipython3",
   "version": "3.9.5"
  }
 },
 "nbformat": 4,
 "nbformat_minor": 5
}
